{
 "cells": [
  {
   "cell_type": "code",
   "execution_count": 1,
   "id": "f651925d",
   "metadata": {},
   "outputs": [],
   "source": [
    "import pandas as pd"
   ]
  },
  {
   "cell_type": "code",
   "execution_count": 5,
   "id": "bc1034ba",
   "metadata": {},
   "outputs": [],
   "source": [
    "data = {'Name' : ['kannan','soman','shekaran'],\n",
    "        'Age' : [23,12,34],\n",
    "         'City' : ['Banglore','Pune','kolkata'] }\n"
   ]
  },
  {
   "cell_type": "code",
   "execution_count": 6,
   "id": "efd4c059",
   "metadata": {},
   "outputs": [],
   "source": [
    "df = pd.DataFrame(data)"
   ]
  },
  {
   "cell_type": "code",
   "execution_count": 8,
   "id": "9daf2be3",
   "metadata": {},
   "outputs": [],
   "source": [
    "df['Marks'] = [95,35,100]"
   ]
  },
  {
   "cell_type": "code",
   "execution_count": 16,
   "id": "103874c2",
   "metadata": {},
   "outputs": [
    {
     "name": "stderr",
     "output_type": "stream",
     "text": [
      "C:\\Users\\91859\\AppData\\Local\\Temp\\ipykernel_15532\\2449074182.py:1: FutureWarning: ChainedAssignmentError: behaviour will change in pandas 3.0!\n",
      "You are setting values through chained assignment. Currently this works in certain cases, but when using Copy-on-Write (which will become the default behaviour in pandas 3.0) this will never work to update the original DataFrame or Series, because the intermediate object on which we are setting values will behave as a copy.\n",
      "A typical example is when you are setting values in a column of a DataFrame, like:\n",
      "\n",
      "df[\"col\"][row_indexer] = value\n",
      "\n",
      "Use `df.loc[row_indexer, \"col\"] = values` instead, to perform the assignment in a single step and ensure this keeps updating the original `df`.\n",
      "\n",
      "See the caveats in the documentation: https://pandas.pydata.org/pandas-docs/stable/user_guide/indexing.html#returning-a-view-versus-a-copy\n",
      "\n",
      "  df['Name'][2] = 'Sonu'\n",
      "C:\\Users\\91859\\AppData\\Local\\Temp\\ipykernel_15532\\2449074182.py:1: SettingWithCopyWarning: \n",
      "A value is trying to be set on a copy of a slice from a DataFrame\n",
      "\n",
      "See the caveats in the documentation: https://pandas.pydata.org/pandas-docs/stable/user_guide/indexing.html#returning-a-view-versus-a-copy\n",
      "  df['Name'][2] = 'Sonu'\n"
     ]
    },
    {
     "data": {
      "text/html": [
       "<div>\n",
       "<style scoped>\n",
       "    .dataframe tbody tr th:only-of-type {\n",
       "        vertical-align: middle;\n",
       "    }\n",
       "\n",
       "    .dataframe tbody tr th {\n",
       "        vertical-align: top;\n",
       "    }\n",
       "\n",
       "    .dataframe thead th {\n",
       "        text-align: right;\n",
       "    }\n",
       "</style>\n",
       "<table border=\"1\" class=\"dataframe\">\n",
       "  <thead>\n",
       "    <tr style=\"text-align: right;\">\n",
       "      <th></th>\n",
       "      <th>Name</th>\n",
       "      <th>Age</th>\n",
       "      <th>City</th>\n",
       "      <th>Marks</th>\n",
       "    </tr>\n",
       "  </thead>\n",
       "  <tbody>\n",
       "    <tr>\n",
       "      <th>0</th>\n",
       "      <td>kannan</td>\n",
       "      <td>23</td>\n",
       "      <td>Banglore</td>\n",
       "      <td>95</td>\n",
       "    </tr>\n",
       "    <tr>\n",
       "      <th>1</th>\n",
       "      <td>soman</td>\n",
       "      <td>12</td>\n",
       "      <td>Pune</td>\n",
       "      <td>35</td>\n",
       "    </tr>\n",
       "    <tr>\n",
       "      <th>2</th>\n",
       "      <td>Sonu</td>\n",
       "      <td>34</td>\n",
       "      <td>kolkata</td>\n",
       "      <td>100</td>\n",
       "    </tr>\n",
       "  </tbody>\n",
       "</table>\n",
       "</div>"
      ],
      "text/plain": [
       "     Name  Age      City  Marks\n",
       "0  kannan   23  Banglore     95\n",
       "1   soman   12      Pune     35\n",
       "2    Sonu   34   kolkata    100"
      ]
     },
     "execution_count": 16,
     "metadata": {},
     "output_type": "execute_result"
    }
   ],
   "source": [
    "df['Name'][2] = 'Sonu'\n",
    "df"
   ]
  },
  {
   "cell_type": "code",
   "execution_count": 15,
   "id": "bfcb2783",
   "metadata": {},
   "outputs": [
    {
     "data": {
      "text/html": [
       "<div>\n",
       "<style scoped>\n",
       "    .dataframe tbody tr th:only-of-type {\n",
       "        vertical-align: middle;\n",
       "    }\n",
       "\n",
       "    .dataframe tbody tr th {\n",
       "        vertical-align: top;\n",
       "    }\n",
       "\n",
       "    .dataframe thead th {\n",
       "        text-align: right;\n",
       "    }\n",
       "</style>\n",
       "<table border=\"1\" class=\"dataframe\">\n",
       "  <thead>\n",
       "    <tr style=\"text-align: right;\">\n",
       "      <th></th>\n",
       "      <th>Name</th>\n",
       "      <th>Age</th>\n",
       "      <th>City</th>\n",
       "      <th>Marks</th>\n",
       "    </tr>\n",
       "  </thead>\n",
       "  <tbody>\n",
       "    <tr>\n",
       "      <th>0</th>\n",
       "      <td>kannan</td>\n",
       "      <td>23</td>\n",
       "      <td>Banglore</td>\n",
       "      <td>95</td>\n",
       "    </tr>\n",
       "    <tr>\n",
       "      <th>1</th>\n",
       "      <td>soman</td>\n",
       "      <td>12</td>\n",
       "      <td>Pune</td>\n",
       "      <td>35</td>\n",
       "    </tr>\n",
       "    <tr>\n",
       "      <th>2</th>\n",
       "      <td>Somu</td>\n",
       "      <td>34</td>\n",
       "      <td>kolkata</td>\n",
       "      <td>100</td>\n",
       "    </tr>\n",
       "  </tbody>\n",
       "</table>\n",
       "</div>"
      ],
      "text/plain": [
       "     Name  Age      City  Marks\n",
       "0  kannan   23  Banglore     95\n",
       "1   soman   12      Pune     35\n",
       "2    Somu   34   kolkata    100"
      ]
     },
     "execution_count": 15,
     "metadata": {},
     "output_type": "execute_result"
    }
   ],
   "source": [
    "df.loc[2,'Name'] = 'Somu'\n",
    "df"
   ]
  },
  {
   "cell_type": "code",
   "execution_count": 27,
   "id": "aa7913f7",
   "metadata": {},
   "outputs": [
    {
     "name": "stdout",
     "output_type": "stream",
     "text": [
      "15\n",
      "15\n"
     ]
    },
    {
     "data": {
      "text/plain": [
       "12    15\n",
       "13    20\n",
       "14    25\n",
       "dtype: int64"
      ]
     },
     "execution_count": 27,
     "metadata": {},
     "output_type": "execute_result"
    }
   ],
   "source": [
    "# ⿡ Series from List\n",
    "# ------------------------------------------------------------\n",
    "# Create a Pandas Series from the list [5, 10, 15, 20, 25]\n",
    "# - Display the third element using both iloc and loc\n",
    "# - Display all elements greater than 10\n",
    "\n",
    "l = [5,10,15,20,25]\n",
    "\n",
    "aa = pd.Series(l,index=[10,11,12,13,14])\n",
    "\n",
    "print(aa.iloc[2])\n",
    "print(aa.loc[12])\n",
    "\n",
    "aa[aa>10]\n",
    "\n",
    "\n"
   ]
  },
  {
   "cell_type": "code",
   "execution_count": 46,
   "id": "6c297fc5",
   "metadata": {},
   "outputs": [
    {
     "name": "stdout",
     "output_type": "stream",
     "text": [
      "   Name     City\n",
      "0  Riya    Delhi\n",
      "1  Amit   Mumbai\n",
      "2  Sara  Chennai\n",
      "3  John    Delhi\n"
     ]
    },
    {
     "data": {
      "text/html": [
       "<div>\n",
       "<style scoped>\n",
       "    .dataframe tbody tr th:only-of-type {\n",
       "        vertical-align: middle;\n",
       "    }\n",
       "\n",
       "    .dataframe tbody tr th {\n",
       "        vertical-align: top;\n",
       "    }\n",
       "\n",
       "    .dataframe thead th {\n",
       "        text-align: right;\n",
       "    }\n",
       "</style>\n",
       "<table border=\"1\" class=\"dataframe\">\n",
       "  <thead>\n",
       "    <tr style=\"text-align: right;\">\n",
       "      <th></th>\n",
       "      <th>Name</th>\n",
       "      <th>Age</th>\n",
       "      <th>City</th>\n",
       "    </tr>\n",
       "  </thead>\n",
       "  <tbody>\n",
       "    <tr>\n",
       "      <th>0</th>\n",
       "      <td>Riya</td>\n",
       "      <td>22</td>\n",
       "      <td>Delhi</td>\n",
       "    </tr>\n",
       "    <tr>\n",
       "      <th>1</th>\n",
       "      <td>Amit</td>\n",
       "      <td>25</td>\n",
       "      <td>Mumbai</td>\n",
       "    </tr>\n",
       "  </tbody>\n",
       "</table>\n",
       "</div>"
      ],
      "text/plain": [
       "   Name  Age    City\n",
       "0  Riya   22   Delhi\n",
       "1  Amit   25  Mumbai"
      ]
     },
     "execution_count": 46,
     "metadata": {},
     "output_type": "execute_result"
    }
   ],
   "source": [
    "\n",
    "# ⿢ DataFrame Creation\n",
    "# ------------------------------------------------------------\n",
    "# Create a DataFrame using:\n",
    "# {\n",
    "#   'Name': ['Riya', 'Amit', 'Sara', 'John'],\n",
    "#   'Age': [22, 25, 24, 28],\n",
    "#   'City': ['Delhi', 'Mumbai', 'Chennai', 'Delhi']\n",
    "# }\n",
    "# - Display only the columns Name and City\n",
    "# - Display the first two rows only\n",
    "\n",
    "\n",
    "l1 = {\n",
    "    'Name': ['Riya', 'Amit', 'Sara', 'John'],\n",
    "    'Age': [22, 25, 24, 28],\n",
    "    'City': ['Delhi', 'Mumbai', 'Chennai', 'Delhi']\n",
    "}\n",
    "\n",
    "ab = pd.DataFrame(l1)\n",
    "print(ab[[\"Name\",'City']])\n",
    "ab.head(2)"
   ]
  },
  {
   "cell_type": "code",
   "execution_count": 52,
   "id": "eeba820e",
   "metadata": {},
   "outputs": [
    {
     "name": "stdout",
     "output_type": "stream",
     "text": [
      "   Name  Age     City\n",
      "1  Amit   25   Mumbai\n",
      "2  Sara   24  Chennai\n",
      "3  John   28    Delhi\n"
     ]
    },
    {
     "data": {
      "text/html": [
       "<div>\n",
       "<style scoped>\n",
       "    .dataframe tbody tr th:only-of-type {\n",
       "        vertical-align: middle;\n",
       "    }\n",
       "\n",
       "    .dataframe tbody tr th {\n",
       "        vertical-align: top;\n",
       "    }\n",
       "\n",
       "    .dataframe thead th {\n",
       "        text-align: right;\n",
       "    }\n",
       "</style>\n",
       "<table border=\"1\" class=\"dataframe\">\n",
       "  <thead>\n",
       "    <tr style=\"text-align: right;\">\n",
       "      <th></th>\n",
       "      <th>Name</th>\n",
       "      <th>Age</th>\n",
       "      <th>City</th>\n",
       "    </tr>\n",
       "  </thead>\n",
       "  <tbody>\n",
       "    <tr>\n",
       "      <th>3</th>\n",
       "      <td>John</td>\n",
       "      <td>28</td>\n",
       "      <td>Delhi</td>\n",
       "    </tr>\n",
       "  </tbody>\n",
       "</table>\n",
       "</div>"
      ],
      "text/plain": [
       "   Name  Age   City\n",
       "3  John   28  Delhi"
      ]
     },
     "execution_count": 52,
     "metadata": {},
     "output_type": "execute_result"
    }
   ],
   "source": [
    "\n",
    "# ⿣ Conditional Filtering\n",
    "# ------------------------------------------------------------\n",
    "# From the above DataFrame:\n",
    "# - Display rows where Age > 23\n",
    "# - Display rows where City == 'Delhi' and Age > 23\n",
    "\n",
    "print(ab[ab['Age']>23])\n",
    "\n",
    "ab[(ab[\"City\"] == \"Delhi\") & (ab[\"Age\"] > 23)]\n"
   ]
  },
  {
   "cell_type": "code",
   "execution_count": 54,
   "id": "9356da6c",
   "metadata": {},
   "outputs": [
    {
     "data": {
      "text/html": [
       "<div>\n",
       "<style scoped>\n",
       "    .dataframe tbody tr th:only-of-type {\n",
       "        vertical-align: middle;\n",
       "    }\n",
       "\n",
       "    .dataframe tbody tr th {\n",
       "        vertical-align: top;\n",
       "    }\n",
       "\n",
       "    .dataframe thead th {\n",
       "        text-align: right;\n",
       "    }\n",
       "</style>\n",
       "<table border=\"1\" class=\"dataframe\">\n",
       "  <thead>\n",
       "    <tr style=\"text-align: right;\">\n",
       "      <th></th>\n",
       "      <th>Name</th>\n",
       "      <th>Age</th>\n",
       "      <th>City</th>\n",
       "      <th>Marks</th>\n",
       "    </tr>\n",
       "  </thead>\n",
       "  <tbody>\n",
       "    <tr>\n",
       "      <th>0</th>\n",
       "      <td>Riya</td>\n",
       "      <td>22</td>\n",
       "      <td>Delhi</td>\n",
       "      <td>85</td>\n",
       "    </tr>\n",
       "    <tr>\n",
       "      <th>1</th>\n",
       "      <td>Amit</td>\n",
       "      <td>25</td>\n",
       "      <td>Mumbai</td>\n",
       "      <td>92</td>\n",
       "    </tr>\n",
       "    <tr>\n",
       "      <th>2</th>\n",
       "      <td>Rahul</td>\n",
       "      <td>24</td>\n",
       "      <td>Chennai</td>\n",
       "      <td>78</td>\n",
       "    </tr>\n",
       "    <tr>\n",
       "      <th>3</th>\n",
       "      <td>John</td>\n",
       "      <td>28</td>\n",
       "      <td>Delhi</td>\n",
       "      <td>88</td>\n",
       "    </tr>\n",
       "  </tbody>\n",
       "</table>\n",
       "</div>"
      ],
      "text/plain": [
       "    Name  Age     City  Marks\n",
       "0   Riya   22    Delhi     85\n",
       "1   Amit   25   Mumbai     92\n",
       "2  Rahul   24  Chennai     78\n",
       "3   John   28    Delhi     88"
      ]
     },
     "execution_count": 54,
     "metadata": {},
     "output_type": "execute_result"
    }
   ],
   "source": [
    "# ⿤ Add and Modify Columns\n",
    "# ------------------------------------------------------------\n",
    "# Add a new column \"Marks\" = [85, 92, 78, 88]\n",
    "# Change the Name in the 3rd row (index 2) to 'Rahul'\n",
    "\n",
    "\n",
    "ab[\"Marks\"] = [85,92,78,88]\n",
    "ab.loc[2,\"Name\"] = 'Rahul'\n",
    "ab"
   ]
  },
  {
   "cell_type": "code",
   "execution_count": 61,
   "id": "9170d5fc",
   "metadata": {},
   "outputs": [
    {
     "name": "stdout",
     "output_type": "stream",
     "text": [
      "    Name  Age  Marks\n",
      "0   Riya   22     85\n",
      "1   Amit   25     92\n",
      "2  Rahul   24     78\n",
      "3   John   28     88\n"
     ]
    },
    {
     "data": {
      "text/html": [
       "<div>\n",
       "<style scoped>\n",
       "    .dataframe tbody tr th:only-of-type {\n",
       "        vertical-align: middle;\n",
       "    }\n",
       "\n",
       "    .dataframe tbody tr th {\n",
       "        vertical-align: top;\n",
       "    }\n",
       "\n",
       "    .dataframe thead th {\n",
       "        text-align: right;\n",
       "    }\n",
       "</style>\n",
       "<table border=\"1\" class=\"dataframe\">\n",
       "  <thead>\n",
       "    <tr style=\"text-align: right;\">\n",
       "      <th></th>\n",
       "      <th>Name</th>\n",
       "      <th>Age</th>\n",
       "      <th>City</th>\n",
       "      <th>Score</th>\n",
       "    </tr>\n",
       "  </thead>\n",
       "  <tbody>\n",
       "    <tr>\n",
       "      <th>0</th>\n",
       "      <td>Riya</td>\n",
       "      <td>22</td>\n",
       "      <td>Delhi</td>\n",
       "      <td>85</td>\n",
       "    </tr>\n",
       "    <tr>\n",
       "      <th>1</th>\n",
       "      <td>Amit</td>\n",
       "      <td>25</td>\n",
       "      <td>Mumbai</td>\n",
       "      <td>92</td>\n",
       "    </tr>\n",
       "    <tr>\n",
       "      <th>2</th>\n",
       "      <td>Rahul</td>\n",
       "      <td>24</td>\n",
       "      <td>Chennai</td>\n",
       "      <td>78</td>\n",
       "    </tr>\n",
       "    <tr>\n",
       "      <th>3</th>\n",
       "      <td>John</td>\n",
       "      <td>28</td>\n",
       "      <td>Delhi</td>\n",
       "      <td>88</td>\n",
       "    </tr>\n",
       "  </tbody>\n",
       "</table>\n",
       "</div>"
      ],
      "text/plain": [
       "    Name  Age     City  Score\n",
       "0   Riya   22    Delhi     85\n",
       "1   Amit   25   Mumbai     92\n",
       "2  Rahul   24  Chennai     78\n",
       "3   John   28    Delhi     88"
      ]
     },
     "execution_count": 61,
     "metadata": {},
     "output_type": "execute_result"
    }
   ],
   "source": [
    "\n",
    "# ⿥ Drop / Rename Columns\n",
    "# ------------------------------------------------------------\n",
    "# Drop the column \"City\"\n",
    "# Rename the column \"Marks\" to \"Score\"\n",
    "\n",
    "print(ab.drop(columns=\"City\"))\n",
    "ab.rename(columns={\"Marks\":\"Score\"},inplace=0)"
   ]
  },
  {
   "cell_type": "code",
   "execution_count": null,
   "id": "7654f421",
   "metadata": {},
   "outputs": [],
   "source": [
    "# ⿦ Handling Missing Values\n",
    "# ------------------------------------------------------------\n",
    "# Create a DataFrame:\n",
    "# {\n",
    "#   'Name': ['Amit', 'Riya', 'Sara', None],\n",
    "#   'Age': [25, None, 22, 30]\n",
    "# }\n",
    "# - Count the number of missing values per column\n",
    "# - Replace missing values in 'Age' with the mean age"
   ]
  },
  {
   "cell_type": "code",
   "execution_count": 67,
   "id": "1a9b5320",
   "metadata": {},
   "outputs": [
    {
     "data": {
      "text/html": [
       "<div>\n",
       "<style scoped>\n",
       "    .dataframe tbody tr th:only-of-type {\n",
       "        vertical-align: middle;\n",
       "    }\n",
       "\n",
       "    .dataframe tbody tr th {\n",
       "        vertical-align: top;\n",
       "    }\n",
       "\n",
       "    .dataframe thead th {\n",
       "        text-align: right;\n",
       "    }\n",
       "</style>\n",
       "<table border=\"1\" class=\"dataframe\">\n",
       "  <thead>\n",
       "    <tr style=\"text-align: right;\">\n",
       "      <th></th>\n",
       "      <th>Name</th>\n",
       "      <th>Age</th>\n",
       "    </tr>\n",
       "  </thead>\n",
       "  <tbody>\n",
       "    <tr>\n",
       "      <th>0</th>\n",
       "      <td>Amit</td>\n",
       "      <td>25.0</td>\n",
       "    </tr>\n",
       "    <tr>\n",
       "      <th>1</th>\n",
       "      <td>Riya</td>\n",
       "      <td>NaN</td>\n",
       "    </tr>\n",
       "    <tr>\n",
       "      <th>2</th>\n",
       "      <td>Sara</td>\n",
       "      <td>22.0</td>\n",
       "    </tr>\n",
       "    <tr>\n",
       "      <th>3</th>\n",
       "      <td>None</td>\n",
       "      <td>30.0</td>\n",
       "    </tr>\n",
       "  </tbody>\n",
       "</table>\n",
       "</div>"
      ],
      "text/plain": [
       "   Name   Age\n",
       "0  Amit  25.0\n",
       "1  Riya   NaN\n",
       "2  Sara  22.0\n",
       "3  None  30.0"
      ]
     },
     "execution_count": 67,
     "metadata": {},
     "output_type": "execute_result"
    }
   ],
   "source": [
    "l3 = {\n",
    "    'Name': ['Amit', 'Riya', 'Sara', None],\n",
    "    'Age': [25, None, 22, 30]\n",
    "}\n",
    "ac = pd.DataFrame(l3)\n",
    "ac"
   ]
  },
  {
   "cell_type": "code",
   "execution_count": 82,
   "id": "020df1ba",
   "metadata": {},
   "outputs": [
    {
     "name": "stdout",
     "output_type": "stream",
     "text": [
      "Name  Age \n",
      "Amit  25.0    1\n",
      "Sara  22.0    1\n",
      "Name: count, dtype: int64\n"
     ]
    },
    {
     "data": {
      "text/html": [
       "<div>\n",
       "<style scoped>\n",
       "    .dataframe tbody tr th:only-of-type {\n",
       "        vertical-align: middle;\n",
       "    }\n",
       "\n",
       "    .dataframe tbody tr th {\n",
       "        vertical-align: top;\n",
       "    }\n",
       "\n",
       "    .dataframe thead th {\n",
       "        text-align: right;\n",
       "    }\n",
       "</style>\n",
       "<table border=\"1\" class=\"dataframe\">\n",
       "  <thead>\n",
       "    <tr style=\"text-align: right;\">\n",
       "      <th></th>\n",
       "      <th>Name</th>\n",
       "      <th>Age</th>\n",
       "    </tr>\n",
       "  </thead>\n",
       "  <tbody>\n",
       "    <tr>\n",
       "      <th>0</th>\n",
       "      <td>Amit</td>\n",
       "      <td>25.000000</td>\n",
       "    </tr>\n",
       "    <tr>\n",
       "      <th>1</th>\n",
       "      <td>Riya</td>\n",
       "      <td>25.666667</td>\n",
       "    </tr>\n",
       "    <tr>\n",
       "      <th>2</th>\n",
       "      <td>Sara</td>\n",
       "      <td>22.000000</td>\n",
       "    </tr>\n",
       "    <tr>\n",
       "      <th>3</th>\n",
       "      <td>None</td>\n",
       "      <td>30.000000</td>\n",
       "    </tr>\n",
       "  </tbody>\n",
       "</table>\n",
       "</div>"
      ],
      "text/plain": [
       "   Name        Age\n",
       "0  Amit  25.000000\n",
       "1  Riya  25.666667\n",
       "2  Sara  22.000000\n",
       "3  None  30.000000"
      ]
     },
     "execution_count": 82,
     "metadata": {},
     "output_type": "execute_result"
    }
   ],
   "source": [
    "print(ac.dropna().value_counts())\n",
    "ac.fillna({\"Age\":ac[\"Age\"].mean()},inplace=False)"
   ]
  },
  {
   "cell_type": "code",
   "execution_count": 88,
   "id": "1271ebbd",
   "metadata": {},
   "outputs": [
    {
     "name": "stdout",
     "output_type": "stream",
     "text": [
      "   Name  Marks\n",
      "2  Sara     78\n",
      "0  Riya     85\n",
      "3  John     88\n",
      "1  Amit     92\n"
     ]
    },
    {
     "data": {
      "text/html": [
       "<div>\n",
       "<style scoped>\n",
       "    .dataframe tbody tr th:only-of-type {\n",
       "        vertical-align: middle;\n",
       "    }\n",
       "\n",
       "    .dataframe tbody tr th {\n",
       "        vertical-align: top;\n",
       "    }\n",
       "\n",
       "    .dataframe thead th {\n",
       "        text-align: right;\n",
       "    }\n",
       "</style>\n",
       "<table border=\"1\" class=\"dataframe\">\n",
       "  <thead>\n",
       "    <tr style=\"text-align: right;\">\n",
       "      <th></th>\n",
       "      <th>Name</th>\n",
       "      <th>Marks</th>\n",
       "    </tr>\n",
       "  </thead>\n",
       "  <tbody>\n",
       "    <tr>\n",
       "      <th>1</th>\n",
       "      <td>Amit</td>\n",
       "      <td>92</td>\n",
       "    </tr>\n",
       "    <tr>\n",
       "      <th>3</th>\n",
       "      <td>John</td>\n",
       "      <td>88</td>\n",
       "    </tr>\n",
       "    <tr>\n",
       "      <th>0</th>\n",
       "      <td>Riya</td>\n",
       "      <td>85</td>\n",
       "    </tr>\n",
       "    <tr>\n",
       "      <th>2</th>\n",
       "      <td>Sara</td>\n",
       "      <td>78</td>\n",
       "    </tr>\n",
       "  </tbody>\n",
       "</table>\n",
       "</div>"
      ],
      "text/plain": [
       "   Name  Marks\n",
       "1  Amit     92\n",
       "3  John     88\n",
       "0  Riya     85\n",
       "2  Sara     78"
      ]
     },
     "execution_count": 88,
     "metadata": {},
     "output_type": "execute_result"
    }
   ],
   "source": [
    "# ⿧ Sorting\n",
    "# ------------------------------------------------------------\n",
    "# Using this data:\n",
    "# {\n",
    "#   'Name': ['Riya', 'Amit', 'Sara', 'John'],\n",
    "#   'Marks': [85, 92, 78, 88]\n",
    "# }\n",
    "# - Sort the DataFrame by Marks (ascending)\n",
    "# - Then sort again by Marks (descending)\n",
    "\n",
    "\n",
    "l4 = {\n",
    "    'Name': ['Riya', 'Amit', 'Sara', 'John'],\n",
    "    'Marks': [85, 92, 78, 88]\n",
    "}\n",
    "\n",
    "ad = pd.DataFrame(l4)\n",
    "\n",
    "print(ad.sort_values(\"Marks\",ascending=True))\n",
    "\n",
    "ad.sort_values(\"Marks\",ascending=False)"
   ]
  },
  {
   "cell_type": "code",
   "execution_count": 103,
   "id": "29049c12",
   "metadata": {},
   "outputs": [
    {
     "name": "stdout",
     "output_type": "stream",
     "text": [
      "City\n",
      "Chennai    70.0\n",
      "Delhi      85.0\n",
      "Mumbai     90.0\n",
      "Name: Marks, dtype: float64\n",
      "City\n",
      "Chennai    70\n",
      "Delhi      90\n",
      "Mumbai     95\n",
      "Name: Marks, dtype: int64\n"
     ]
    }
   ],
   "source": [
    "# ⿨ Grouping & Aggregation\n",
    "# ------------------------------------------------------------\n",
    "# {\n",
    "#   'City': ['Delhi', 'Delhi', 'Chennai', 'Mumbai', 'Mumbai'],\n",
    "#   'Marks': [80, 90, 70, 85, 95]\n",
    "# }\n",
    "# - Find average Marks per City\n",
    "# - Find maximum Marks per City\n",
    "\n",
    "l5 ={\n",
    "    'City': ['Delhi', 'Delhi', 'Chennai', 'Mumbai', 'Mumbai'],\n",
    "    'Marks': [80, 90, 70, 85, 95]\n",
    "}\n",
    "\n",
    "ae = pd.DataFrame(l5)\n",
    "\n",
    "print(ae.groupby(\"City\")[\"Marks\"].mean())\n",
    "print(ae.groupby(\"City\")[\"Marks\"].max())\n"
   ]
  }
 ],
 "metadata": {
  "kernelspec": {
   "display_name": "pandas",
   "language": "python",
   "name": "python3"
  },
  "language_info": {
   "codemirror_mode": {
    "name": "ipython",
    "version": 3
   },
   "file_extension": ".py",
   "mimetype": "text/x-python",
   "name": "python",
   "nbconvert_exporter": "python",
   "pygments_lexer": "ipython3",
   "version": "3.13.7"
  }
 },
 "nbformat": 4,
 "nbformat_minor": 5
}
